{
 "cells": [
  {
   "cell_type": "code",
   "execution_count": 1,
   "metadata": {},
   "outputs": [],
   "source": [
    "import spacy\n",
    "nlp = spacy.load('en_core_web_lg')\n"
   ]
  },
  {
   "cell_type": "code",
   "execution_count": null,
   "metadata": {},
   "outputs": [],
   "source": []
  },
  {
   "cell_type": "code",
   "execution_count": 2,
   "metadata": {},
   "outputs": [],
   "source": [
    "movie_lines = {}\n",
    "for line in open(\"./cornell movie-dialogs corpus/movie_lines.txt\",\n",
    "                 encoding=\"latin1\"):\n",
    "    line = line.strip()\n",
    "    parts = line.split(\" +++$+++ \")\n",
    "    if len(parts) == 5:\n",
    "        movie_lines[parts[0]] = parts[4]\n",
    "    else:\n",
    "        movie_lines[parts[0]] = \"\""
   ]
  },
  {
   "cell_type": "code",
   "execution_count": 3,
   "metadata": {},
   "outputs": [],
   "source": [
    "import json\n",
    "responses = {}\n",
    "for line in open(\"./cornell movie-dialogs corpus/movie_conversations.txt\",\n",
    "                 encoding=\"latin1\"):\n",
    "    line = line.strip()\n",
    "    parts = line.split(\" +++$+++ \")\n",
    "    line_ids = json.loads(parts[3].replace(\"'\", '\"'))\n",
    "    for first, second in zip(line_ids[:-1], line_ids[1:]):\n",
    "        responses[first] = second"
   ]
  },
  {
   "cell_type": "code",
   "execution_count": 4,
   "metadata": {},
   "outputs": [
    {
     "name": "stdout",
     "output_type": "stream",
     "text": [
      "A: Don't kid yourself -- she means it.\n",
      "B: Are we going to have the same quarrel over again?\n",
      "\n",
      "A: No, it's more like a leave of-  Ha, ha, ha. Yeah, they fired me.\n",
      "B: You don't seem to upset?\n",
      "\n",
      "A: Length, 22 feet, 8 inches.\n",
      "B: Come on, let's check the bite radius.\n",
      "\n",
      "A: It's too...\n",
      "B: You get a bad month, all of a...\n",
      "\n",
      "A: I have been trying to reach Wilfred with no success.  As one grows older, one yearns for family.\n",
      "B: It's good to see you again, Uncle. I've missed you.\n",
      "\n"
     ]
    }
   ],
   "source": [
    "import random\n",
    "for pair in random.sample(responses.items(), 5):\n",
    "    print(\"A:\", movie_lines[pair[0]])\n",
    "    print(\"B:\", movie_lines[pair[1]])\n",
    "    print()"
   ]
  },
  {
   "cell_type": "code",
   "execution_count": null,
   "metadata": {},
   "outputs": [],
   "source": []
  },
  {
   "cell_type": "markdown",
   "metadata": {},
   "source": [
    "## Making a sentence vector\n",
    "To make the sentence vector for each line of dialog, we're going to use spaCy. The function sentence_mean below takes the spaCy object that we loaded earlier (nlp) and uses it to tokenize the string that you pass into the function (i.e., break it up into words). It then uses numpy's mean() function to find the average of the vectors, producing a new vector. The shape of the resulting vector (i.e., the number of dimensions) should be the same as the shape of the individual word vectors.\n",
    "\n",
    "(Note: I disabled the tagger and parser parts of spaCy's pipeline to improve performance. We're not using part of speech tags or dependency relations in this chatbot, so there's no reason to spend time calculating them.)"
   ]
  },
  {
   "cell_type": "code",
   "execution_count": 5,
   "metadata": {},
   "outputs": [
    {
     "data": {
      "text/plain": [
       "(300,)"
      ]
     },
     "execution_count": 5,
     "metadata": {},
     "output_type": "execute_result"
    }
   ],
   "source": [
    "import numpy as np\n",
    "def sentence_mean(nlp, s):\n",
    "    if s == \"\":\n",
    "        s = \" \"\n",
    "    doc = nlp(s, disable=['tagger', 'parser'])\n",
    "    return np.mean(np.array([w.vector for w in doc]), axis=0)\n",
    "sentence_mean(nlp, \"This... is a test.\").shape"
   ]
  },
  {
   "cell_type": "code",
   "execution_count": 6,
   "metadata": {},
   "outputs": [
    {
     "name": "stdout",
     "output_type": "stream",
     "text": [
      "0 L378927 You'll get it. But, Joe, I want you to do something for me. Let me take a look around inside. Make sure everybody's okay.\n",
      "1000 L403439 What can I do for you?\n",
      "2000 L34539 Are you gonna do what I think you're gonna do?\n",
      "3000 L154113 You were gonna run through the law enforcement databases for a match on identifying marks.\n",
      "4000 L477431 I am not an American, Mr. Russ.  My daughter is not an American.\n",
      "5000 L523674 But you'll be away from home for days -- what will you do when the dark comes, where will you sleep? I can't send you away from here like that!\n",
      "6000 L635070 You told them cowboys you had it.\n",
      "7000 L553184 Ah!\n",
      "8000 L464216 He wants to see your map.\n",
      "9000 L649283 Go back, MICHAEL... Go Back\n"
     ]
    }
   ],
   "source": [
    "from simpleneighbors import SimpleNeighbors\n",
    "\n",
    "nns = SimpleNeighbors(300)\n",
    "for i, line_id in enumerate(random.sample(list(responses.keys()), 10000)):\n",
    "    # show progress\n",
    "    if i % 1000 == 0: print(i, line_id, movie_lines[line_id])\n",
    "    line_text = movie_lines[line_id]\n",
    "    summary_vector = sentence_mean(nlp, line_text)\n",
    "    if np.any(summary_vector):\n",
    "        nns.add_one(line_id, summary_vector)\n",
    "nns.build()"
   ]
  },
  {
   "cell_type": "code",
   "execution_count": 7,
   "metadata": {},
   "outputs": [
    {
     "name": "stdout",
     "output_type": "stream",
     "text": [
      "Your line:\n",
      "\t I like making bots.\n",
      "Most similar turn:\n",
      "\t I know. Stop it.\n",
      "Response to most similar turn:\n",
      "\t Pumpkin, you're dating a tumbling, tumbling dickweed.\n"
     ]
    }
   ],
   "source": [
    "\n",
    "sentence = \"I like making bots.\"\n",
    "picked = nns.nearest(sentence_mean(nlp, sentence), 5)[0]\n",
    "response_line_id = responses[picked]\n",
    "\n",
    "print(\"Your line:\\n\\t\", sentence)\n",
    "print(\"Most similar turn:\\n\\t\", movie_lines[picked])\n",
    "print(\"Response to most similar turn:\\n\\t\", movie_lines[response_line_id])\n"
   ]
  },
  {
   "cell_type": "code",
   "execution_count": 8,
   "metadata": {},
   "outputs": [],
   "source": []
  },
  {
   "cell_type": "code",
   "execution_count": 9,
   "metadata": {},
   "outputs": [],
   "source": [
    "from semanticsimilaritychatbot import SemanticSimilarityChatbot\n",
    "chatbot = SemanticSimilarityChatbot(nlp, 300)"
   ]
  },
  {
   "cell_type": "code",
   "execution_count": 10,
   "metadata": {},
   "outputs": [],
   "source": [
    "sample_n = 10000\n",
    "for first_id, second_id in random.sample(list(responses.items()), sample_n):\n",
    "    chatbot.add_pair(movie_lines[first_id], movie_lines[second_id])\n",
    "chatbot.build()"
   ]
  },
  {
   "cell_type": "code",
   "execution_count": null,
   "metadata": {},
   "outputs": [],
   "source": []
  },
  {
   "cell_type": "code",
   "execution_count": 11,
   "metadata": {},
   "outputs": [
    {
     "name": "stdout",
     "output_type": "stream",
     "text": [
      "We caught 'em.\n"
     ]
    }
   ],
   "source": [
    "print(chatbot.response_for(\"Hello computer!\"))"
   ]
  },
  {
   "cell_type": "code",
   "execution_count": null,
   "metadata": {},
   "outputs": [],
   "source": []
  },
  {
   "cell_type": "code",
   "execution_count": 12,
   "metadata": {},
   "outputs": [
    {
     "name": "stdout",
     "output_type": "stream",
     "text": [
      "picking from 5 possible responses:\n",
      "I've got her.\n",
      "\n",
      "picking from 10 possible responses:\n",
      "Sure, I think it's swell.\n",
      "\n",
      "picking from 15 possible responses:\n",
      "It's called Tron. It's a security program itself, actually. Monitors all the contacts between our system and other systems... If it finds anything going on that's not scheduled, it shuts it down. I sent you a memo on it.\n",
      "\n",
      "picking from 20 possible responses:\n",
      "...yes...\n",
      "\n",
      "picking from 25 possible responses:\n",
      "Right... Knickers... Cabbages... It doesn't have a beak. Alex laughs. Slide of woman speaking to boy.\n",
      "\n",
      "picking from 30 possible responses:\n",
      "It's late.\n",
      "\n",
      "picking from 35 possible responses:\n",
      "It's all a game, don't bother me.\n",
      "\n",
      "picking from 40 possible responses:\n",
      "\"G.I. Jane.\"  And which one of you told me she wouldn't last a week? Huh?\n",
      "\n",
      "picking from 45 possible responses:\n",
      "Oh, oh, yes.  I-I-I-'d like to, uh, uh, very much.\n",
      "\n",
      "picking from 50 possible responses:\n",
      "You don't have to explain yourself to me, Deirdre.\n",
      "\n"
     ]
    }
   ],
   "source": [
    "my_turn = \"The weather's nice today, don't you think?\"\n",
    "for i in range(5, 51, 5):\n",
    "    print(\"picking from\", i, \"possible responses:\")\n",
    "    print(chatbot.response_for(my_turn, i))\n",
    "    print()"
   ]
  },
  {
   "cell_type": "code",
   "execution_count": 13,
   "metadata": {},
   "outputs": [],
   "source": [
    "chatbot_html = \"\"\"\n",
    "<style type=\"text/css\">#log p { margin: 5px; font-family: sans-serif; }</style>\n",
    "<div id=\"log\"\n",
    "     style=\"box-sizing: border-box;\n",
    "            width: 600px;\n",
    "            height: 32em;\n",
    "            border: 1px grey solid;\n",
    "            padding: 2px;\n",
    "            overflow: scroll;\">\n",
    "</div>\n",
    "<input type=\"text\" id=\"typehere\" placeholder=\"type here!\"\n",
    "       style=\"box-sizing: border-box;\n",
    "              width: 600px;\n",
    "              margin-top: 5px;\">\n",
    "<script>\n",
    "function paraWithText(t) {\n",
    "    let tn = document.createTextNode(t);\n",
    "    let ptag = document.createElement('p');\n",
    "    ptag.appendChild(tn);\n",
    "    return ptag;\n",
    "}\n",
    "document.querySelector('#typehere').onchange = async function() {\n",
    "    let inputField = document.querySelector('#typehere');\n",
    "    let val = inputField.value;\n",
    "    inputField.value = \"\";\n",
    "    let resp = await getResp(val);\n",
    "    let objDiv = document.getElementById(\"log\");\n",
    "    objDiv.appendChild(paraWithText('😀: ' + val));\n",
    "    objDiv.appendChild(paraWithText('🤖: ' + resp));\n",
    "    objDiv.scrollTop = objDiv.scrollHeight;\n",
    "};\n",
    "async function colabGetResp(val) {\n",
    "    let resp = await google.colab.kernel.invokeFunction(\n",
    "        'notebook.get_response', [val], {});\n",
    "    return resp.data['application/json']['result'];\n",
    "}\n",
    "async function webGetResp(val) {\n",
    "    let resp = await fetch(\"/response.json?sentence=\" + \n",
    "        encodeURIComponent(val));\n",
    "    let data = await resp.json();\n",
    "    return data['result'];\n",
    "}\n",
    "</script>\n",
    "\"\"\""
   ]
  },
  {
   "cell_type": "code",
   "execution_count": 14,
   "metadata": {},
   "outputs": [
    {
     "name": "stdout",
     "output_type": "stream",
     "text": [
      " * Serving Flask app \"__main__\" (lazy loading)\n",
      " * Environment: production\n",
      "   WARNING: Do not use the development server in a production environment.\n",
      "   Use a production WSGI server instead.\n",
      " * Debug mode: off\n"
     ]
    },
    {
     "name": "stderr",
     "output_type": "stream",
     "text": [
      " * Running on http://127.0.0.1:5000/ (Press CTRL+C to quit)\n",
      "127.0.0.1 - - [19/Dec/2018 12:41:47] \"\u001b[37mGET / HTTP/1.1\u001b[0m\" 200 -\n",
      "127.0.0.1 - - [19/Dec/2018 12:41:52] \"\u001b[37mGET /response.json?sentence=hi HTTP/1.1\u001b[0m\" 200 -\n",
      "127.0.0.1 - - [19/Dec/2018 12:41:59] \"\u001b[37mGET /response.json?sentence=oh%2C%20ok HTTP/1.1\u001b[0m\" 200 -\n",
      "127.0.0.1 - - [19/Dec/2018 12:42:06] \"\u001b[37mGET /response.json?sentence=who%27s%20rob%3F HTTP/1.1\u001b[0m\" 200 -\n",
      "127.0.0.1 - - [19/Dec/2018 12:42:21] \"\u001b[37mGET /response.json?sentence=cool HTTP/1.1\u001b[0m\" 200 -\n",
      "127.0.0.1 - - [19/Dec/2018 12:42:26] \"\u001b[37mGET /response.json?sentence=hey HTTP/1.1\u001b[0m\" 200 -\n",
      "127.0.0.1 - - [19/Dec/2018 12:44:13] \"\u001b[37mGET /response.json?sentence=how%20can%20i%20help%20you%3F HTTP/1.1\u001b[0m\" 200 -\n"
     ]
    }
   ],
   "source": [
    "\n",
    "from flask import Flask, request, jsonify\n",
    "app = Flask(__name__)\n",
    "@app.route(\"/response.json\")\n",
    "def response():\n",
    "    sentence = request.args['sentence']\n",
    "    return jsonify(\n",
    "        {'result': chatbot.response_for(sentence)})\n",
    "@app.route(\"/\")\n",
    "def home():\n",
    "    return chatbot_html + \"<script>let getResp = webGetResp;</script>\"\n",
    "app.run()"
   ]
  },
  {
   "cell_type": "code",
   "execution_count": null,
   "metadata": {},
   "outputs": [],
   "source": []
  }
 ],
 "metadata": {
  "kernelspec": {
   "display_name": "Python 3",
   "language": "python",
   "name": "python3"
  },
  "language_info": {
   "codemirror_mode": {
    "name": "ipython",
    "version": 3
   },
   "file_extension": ".py",
   "mimetype": "text/x-python",
   "name": "python",
   "nbconvert_exporter": "python",
   "pygments_lexer": "ipython3",
   "version": "3.7.0"
  }
 },
 "nbformat": 4,
 "nbformat_minor": 2
}
