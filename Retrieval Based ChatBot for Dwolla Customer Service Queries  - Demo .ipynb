{
 "cells": [
  {
   "cell_type": "markdown",
   "metadata": {},
   "source": [
    "## Dwolla chatbot demo \n",
    "\n",
    "    some questions you can ask me: \n",
    "\n",
    "    my dwolla account is suspended\n",
    "    exceeded maximum times verification \n",
    "    unable to process transactions with dwolla\n",
    "    AHS transfer has not been processed \n",
    "    how do i add my bank account\n",
    "    can i set up an account with my debit card?\n",
    "    is my baking information visible to others?\n",
    "\n"
   ]
  },
  {
   "cell_type": "code",
   "execution_count": 3,
   "metadata": {
    "scrolled": true
   },
   "outputs": [],
   "source": [
    "import re\n",
    "import os, sys\n",
    "import string\n",
    "import pandas as pd \n",
    "import numpy as np\n",
    "from nltk import *\n",
    "import operator\n",
    "from sklearn.feature_extraction.text import TfidfVectorizer\n",
    "from sklearn.metrics.pairwise import cosine_similarity\n",
    "import warnings\n",
    "warnings.filterwarnings(\"ignore\")\n",
    "import random"
   ]
  },
  {
   "cell_type": "code",
   "execution_count": 4,
   "metadata": {},
   "outputs": [],
   "source": [
    "f = open('dwolla_faq - dwolla_faq.csv','r', errors = 'ignore')\n",
    "raw = f.read()\n",
    "raw = raw.lower()"
   ]
  },
  {
   "cell_type": "code",
   "execution_count": 5,
   "metadata": {},
   "outputs": [],
   "source": [
    "lemmer = stem.WordNetLemmatizer()\n",
    "def LemTokens(tokens):\n",
    "    return [lemmer.lemmatize(token) for token in tokens]"
   ]
  },
  {
   "cell_type": "code",
   "execution_count": 6,
   "metadata": {},
   "outputs": [],
   "source": [
    "remove_punct_dict = dict((ord(punct), None) for punct in string.punctuation)"
   ]
  },
  {
   "cell_type": "code",
   "execution_count": 7,
   "metadata": {},
   "outputs": [],
   "source": [
    "def LemNormalize(text):\n",
    "    return LemTokens(word_tokenize(text.lower().translate(remove_punct_dict)))\n"
   ]
  },
  {
   "cell_type": "code",
   "execution_count": null,
   "metadata": {},
   "outputs": [],
   "source": []
  },
  {
   "cell_type": "code",
   "execution_count": null,
   "metadata": {},
   "outputs": [],
   "source": []
  },
  {
   "cell_type": "code",
   "execution_count": 8,
   "metadata": {
    "scrolled": true
   },
   "outputs": [
    {
     "name": "stdout",
     "output_type": "stream",
     "text": [
      "DWOLLA ROO: Hi!\n",
      "\n",
      "USER:  how do i add my bank account?\n",
      "DWOLLA ROO: Ok, add bank account\n",
      "\n",
      "- navigate to \"accounts\" and under the bank account & balance tab, click + add account button, select your bank from the popup list and choose either instant or micro-deposit to verify your account (instant verification method is recommended as it uses the same login credentials you use on your bank’s website, and securely verifies that you own the account within seconds)\n",
      "\n",
      "- next, dwolla will make two small deposits between $0.01 and $0.20 into the bank account you provided, keep an eye out for these — as they typically show up within 1-3 business days — and note the specific amounts\n",
      "\n",
      "- once you've received the deposits from dwell, return to bank accounts & balance tab, click “verify” next to your bank and enter the amounts of the two deposits you received (e.g., $0.03 and $0.12)\n",
      "\n",
      "- after you enter the two amounts correctly, your bank account will be successfully connected with dwolla so you can easily transfer money in and out.\n",
      "\n",
      "DWOLLA ROO: Psst... if this wasn't helpful, please rephrase or be more specific\n",
      "\n",
      "USER:  how do i set up auto withdraw?\n",
      "DWOLLA ROO: Ok, enable auto withdraw \n",
      "\n",
      "to enable tcbalance auto-withdrawal, go to your tcpayments settings and open account info & settings tab first, click on the automatic withdraw toggle button -  here you can enter a start date of withdraw, frequency and the destination account\n",
      "\n",
      "auto withdrawal bank account days\n",
      "\n",
      "auto-withdrawals will arrive in your bank account within 1-2 business days \n",
      "\n",
      "\n",
      "when auto-withdrawal is enabled, the total of the day's incoming transactions will be automatically transferred to your bank account once each business day\n",
      "if you receive incoming transactions on a weekend or a bank holiday, these payments will be sent to your bank account the following business day \n",
      ".\n",
      "\n",
      "DWOLLA ROO: Psst... if this wasn't helpful, please rephrase or be more specific\n",
      "\n",
      "USER: how do i add a property to my account?\n",
      "DWOLLA ROO: Ok, there are 3 types of bank account you can add to your tc payments powered by dwolla account:                \n",
      "main bank account: this can be the operating account for a property management company or the default account for a diy landlord, if you are not a property management company then setting up this type of account is all you need\n",
      "deposit bank account: for a property management companies or landlords that are required to separate tenant liabilities (ie deposits and prepaid-rent), all the liability sent will go directly to this bank account\n",
      "property bank accounts: for property management companies that separate rent in and out accounts from their operating bank account, this account(s) will allow all rent and other property owner based transactions to go to a specific account separate than the companys business operating account\n",
      ".\n",
      "\n",
      "DWOLLA ROO: Psst... if this wasn't helpful, please rephrase or be more specific\n",
      "\n",
      "USER: my account is suspended\n",
      "DWOLLA ROO: Ok, if an account is suspended, you’ll need to contact support@dwolla.com or your account manager\n",
      "\n",
      "while this isn’t an exhaustive list, these return codes can automatically suspend accounts:\n",
      "\n",
      "r08 - receiver of a recurring debit has stopped payment of an entry \n",
      "r10 - receiver has advised rdfi that originator is not authorized to debit the bank account \n",
      "r16 - there are multiple descriptions: 1) access to account is restricted due to specific action taken by the rdfi or legal action 2) ofac has instructed the rdfi or gateway to return the entry\n",
      "r20 - the ach entry destined for a non-transaction account (i.e.an account against which transactions are prohibited or limited)\n",
      "r29 - rdfi has been notified by receiver (non-consumer) that a specific transaction is unauthorized\n",
      "\n",
      "didn’t receive a return code\n",
      "here are other reasons an account may be suspended: \n",
      "\n",
      "negative balance\n",
      "unverifiable customer/ user information\n",
      "invalid business employer identification number (ein)\n",
      "non-responsive customer/user\n",
      "fraudulent activity\n",
      "return code indicated issue\n",
      "terms of service violation\n",
      "\n",
      ".\n",
      "\n",
      "DWOLLA ROO: Psst... if this wasn't helpful, please rephrase or be more specific\n",
      "\n",
      "USER: can i set up my account with my debit card?\n",
      "DWOLLA ROO: Ok, unfortunately there is not option to link with debit cards or credit cards.\n",
      "\n",
      "DWOLLA ROO: Psst... if this wasn't helpful, please rephrase or be more specific\n",
      "\n",
      "USER: ok, thanks!\n",
      "DWOLLA ROO: Ok, I am sorry! I don't understand you\n",
      "\n",
      "DWOLLA ROO: Psst... if this wasn't helpful, please rephrase or be more specific\n",
      "\n",
      "USER: thanks\n",
      "DWOLLA ROO: You are welcome..\n"
     ]
    }
   ],
   "source": [
    "\n",
    "sent_tokens = sent_tokenize(raw) # converts to list of sentences \n",
    "word_tokens = word_tokenize(raw) # converts to list of words\n",
    "\n",
    "\n",
    "GREETING_INPUTS = (\"hello\", \"hi\", \"greetings\", \"sup\", \"what's up\",\"hey\",)\n",
    "GREETING_RESPONSES = [\"Good day, How may I help you?\", \"Hello, How can i help?\", \"hello\", \"Hi! I am glad! You are talking to me.\"]\n",
    "\n",
    "\n",
    "\n",
    " # Checking for greetings\n",
    "def greeting(sentence):\n",
    "    # If user's input is a greeting, return a greeting response\n",
    "    for word in sentence.split():\n",
    "        if word.lower() in GREETING_INPUTS:\n",
    "            return random.choice(GREETING_RESPONSES)\n",
    "\n",
    "\n",
    "# Generating response\n",
    "def response(user_response):\n",
    "    robo_response = ''\n",
    "    sent_tokens.append(user_response)\n",
    "    TfidfVec = TfidfVectorizer(tokenizer = LemNormalize, stop_words = 'english')\n",
    "    tfidf = TfidfVec.fit_transform(sent_tokens)\n",
    "    vals = cosine_similarity(tfidf[-1], tfidf)\n",
    "    idx = vals.argsort()[0][-2]\n",
    "    flat = vals.flatten()\n",
    "    flat.sort()\n",
    "    req_tfidf = flat[-2]\n",
    "    if(req_tfidf == 0):\n",
    "        robo_response = robo_response + \"I am sorry! I don't understand you\"\n",
    "        return robo_response\n",
    "    else:\n",
    "        robo_response = robo_response+sent_tokens[idx]\n",
    "        return robo_response\n",
    "\n",
    "\n",
    "flag = True\n",
    "print(\"DWOLLA ROO: Hi!\") \n",
    "while(flag == True):\n",
    "    print(\"\\nUSER: \", end = \"\")\n",
    "    user_response = input()\n",
    "    user_response = user_response.lower()\n",
    "    if(user_response!= 'bye'):\n",
    "        if(user_response == 'thanks' or user_response == 'thank you' ):\n",
    "            flag = False\n",
    "            print(\"DWOLLA ROO: You are welcome..\")\n",
    "        else:\n",
    "            if(greeting(user_response)!= None):\n",
    "                print(\"DWOLLA ROO1: \" + greeting(user_response))\n",
    "            else:\n",
    "                print(\"DWOLLA ROO: Ok, \", end = \"\")\n",
    "                print(response(user_response))\n",
    "                sent_tokens.remove(user_response)\n",
    "                print(\"\\nDWOLLA ROO: Psst... if this wasn't helpful, please rephrase or be more specific\")\n",
    "    else:\n",
    "        flag=False\n",
    "        print(\"DWOLLA ROO: Bye! take care..\")    \n",
    "        \n",
    " "
   ]
  },
  {
   "cell_type": "markdown",
   "metadata": {},
   "source": []
  },
  {
   "cell_type": "code",
   "execution_count": null,
   "metadata": {},
   "outputs": [],
   "source": [
    "  "
   ]
  },
  {
   "cell_type": "code",
   "execution_count": null,
   "metadata": {},
   "outputs": [],
   "source": []
  },
  {
   "cell_type": "code",
   "execution_count": null,
   "metadata": {},
   "outputs": [],
   "source": []
  },
  {
   "cell_type": "code",
   "execution_count": null,
   "metadata": {},
   "outputs": [],
   "source": []
  },
  {
   "cell_type": "code",
   "execution_count": null,
   "metadata": {},
   "outputs": [],
   "source": []
  },
  {
   "cell_type": "code",
   "execution_count": null,
   "metadata": {},
   "outputs": [],
   "source": []
  },
  {
   "cell_type": "code",
   "execution_count": null,
   "metadata": {},
   "outputs": [],
   "source": []
  },
  {
   "cell_type": "code",
   "execution_count": null,
   "metadata": {},
   "outputs": [],
   "source": []
  },
  {
   "cell_type": "code",
   "execution_count": null,
   "metadata": {},
   "outputs": [],
   "source": []
  },
  {
   "cell_type": "code",
   "execution_count": null,
   "metadata": {},
   "outputs": [],
   "source": []
  },
  {
   "cell_type": "code",
   "execution_count": null,
   "metadata": {},
   "outputs": [],
   "source": []
  },
  {
   "cell_type": "code",
   "execution_count": null,
   "metadata": {},
   "outputs": [],
   "source": []
  },
  {
   "cell_type": "code",
   "execution_count": null,
   "metadata": {},
   "outputs": [],
   "source": []
  },
  {
   "cell_type": "code",
   "execution_count": null,
   "metadata": {},
   "outputs": [],
   "source": []
  },
  {
   "cell_type": "code",
   "execution_count": null,
   "metadata": {},
   "outputs": [],
   "source": []
  }
 ],
 "metadata": {
  "kernelspec": {
   "display_name": "Python 3",
   "language": "python",
   "name": "python3"
  },
  "language_info": {
   "codemirror_mode": {
    "name": "ipython",
    "version": 3
   },
   "file_extension": ".py",
   "mimetype": "text/x-python",
   "name": "python",
   "nbconvert_exporter": "python",
   "pygments_lexer": "ipython3",
   "version": "3.5.2"
  }
 },
 "nbformat": 4,
 "nbformat_minor": 2
}
